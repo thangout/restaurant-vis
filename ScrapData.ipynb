{
 "cells": [
  {
   "cell_type": "code",
   "execution_count": 1,
   "metadata": {
    "collapsed": false
   },
   "outputs": [],
   "source": [
    "from bs4 import BeautifulSoup\n",
    "\n",
    "import requests\n",
    "\n",
    "#first loop open the big page with url\n",
    "#second loop find all links to a place \n",
    "\n",
    "url = \"www.yelp.co.uk/search?find_loc=praha&cflt=restaurants\"\n",
    "\n",
    "r  = requests.get(\"http://\" +url)\n",
    "\n",
    "data = r.text\n",
    "\n",
    "soup = BeautifulSoup(data,\"lxml\")\n",
    "\n",
    "place_links = [] #store all sublinks of places\n",
    "\n",
    "#find all links to places\n",
    "for link in soup.find_all('a','biz-name'):\n",
    "    place_links.append(link['href'])\n",
    "\n",
    "\n",
    "place_pages = []\n",
    "\n",
    "\n",
    "for place_link in place_links:\n",
    "    tmpUrl = 'www.yelp.co.uk' + place_link    \n",
    "    r  = requests.get(\"http://\" +tmpUrl) #getting subpage\n",
    "    data = r.text\n",
    "    place_soup = BeautifulSoup(data,\"lxml\")\n",
    "    place_pages.append(place_soup)\n",
    "    \n",
    "    "
   ]
  },
  {
   "cell_type": "code",
   "execution_count": 10,
   "metadata": {
    "collapsed": false
   },
   "outputs": [],
   "source": [
    "dataStorage = []\n",
    "\n",
    "{'name':'',\n",
    " 'address': '', \n",
    " 'priceRange': '', \n",
    " 'gps': [1,2], \n",
    " 'priceGroup': '', \n",
    " 'stars': '', \n",
    " 'numOfReviews': 0, \n",
    " 'web': '', \n",
    " 'numOfPhotos': '',\n",
    " 'tags': [],\n",
    " 'noiseLevel': '',\n",
    " 'wifi': '',\n",
    " 'openHours': {\n",
    "        'mo' : '',\n",
    "        'tu' : '',\n",
    "        'we' : '',\n",
    "        'th' : '',\n",
    "        'fr' : '',\n",
    "        'sa' : '',\n",
    "        'su' : '',\n",
    "    }\n",
    "}\n",
    "\n",
    "i = 1\n",
    "\n",
    "name = place_pages[i].find('h1','biz-page-title').children.next().encode('utf-8') #need to encode utf-8 for saving into file\n",
    "\n",
    "#address\n",
    "address = place_pages[i].find('address').findChildren('span')\n",
    "street = address[0].text\n",
    "postCode = address[1].text\n",
    "city = address[2].text\n",
    "\n",
    "#price\n",
    "priceRange = place_pages[i].find('dd','price-description')\n",
    "priceText = priceRange.text.strip() #clean whitespaces\n",
    "currency = priceText[:3]\n",
    "priceText_split = priceText[3:].split('-') \n",
    "priceFrom = priceText_split[0]\n",
    "priceTo = priceText_split[1]\n",
    "\n",
    "priceGroup = place_pages[i].find('span','price-range')\n",
    "\n",
    "#location\n",
    "coordTmp = place_pages[i].find('a','biz-map-directions').findChildren()[0].attrs['src']\n",
    "coordStart = coordTmp.find('center')\n",
    "coordTmpShort = coordTmp[coordStart+7:coordStart+28]\n",
    "gps = coordTmpShort.split('%2C')\n",
    "gps = map(float,gps) #convert to int"
   ]
  },
  {
   "cell_type": "code",
   "execution_count": 49,
   "metadata": {
    "collapsed": false
   },
   "outputs": [
    {
     "name": "stdout",
     "output_type": "stream",
     "text": [
      "[50.090748, 14.426998]\n"
     ]
    }
   ],
   "source": []
  },
  {
   "cell_type": "code",
   "execution_count": 95,
   "metadata": {
    "collapsed": false
   },
   "outputs": [],
   "source": [
    "#saving into file\n",
    "with open(\"Output.txt\", \"w\") as text_file:\n",
    "    text_file.write(\"Purchase Amount: {}\".format(street))"
   ]
  },
  {
   "cell_type": "code",
   "execution_count": null,
   "metadata": {
    "collapsed": true
   },
   "outputs": [],
   "source": []
  }
 ],
 "metadata": {
  "anaconda-cloud": {},
  "kernelspec": {
   "display_name": "Python [Root]",
   "language": "python",
   "name": "Python [Root]"
  },
  "language_info": {
   "codemirror_mode": {
    "name": "ipython",
    "version": 2
   },
   "file_extension": ".py",
   "mimetype": "text/x-python",
   "name": "python",
   "nbconvert_exporter": "python",
   "pygments_lexer": "ipython2",
   "version": "2.7.12"
  }
 },
 "nbformat": 4,
 "nbformat_minor": 0
}
