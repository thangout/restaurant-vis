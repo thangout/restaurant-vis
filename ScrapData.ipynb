{
 "cells": [
  {
   "cell_type": "code",
   "execution_count": 3,
   "metadata": {
    "collapsed": false
   },
   "outputs": [],
   "source": [
    "from bs4 import BeautifulSoup\n",
    "\n",
    "import requests\n",
    "\n",
    "import json\n",
    "\n",
    "#first loop open the big page with url\n",
    "#second loop find all links to a place \n",
    "\n",
    "url = \"www.yelp.co.uk/search?find_loc=praha&cflt=restaurants\"\n",
    "\n",
    "r  = requests.get(\"http://\" +url)\n",
    "\n",
    "data = r.text\n",
    "\n",
    "soup = BeautifulSoup(data,\"lxml\")\n",
    "\n",
    "place_links = [] #store all sublinks of places\n",
    "\n",
    "#find all links to places\n",
    "for link in soup.find_all('a','biz-name'):\n",
    "    place_links.append(link['href'])\n",
    "\n",
    "\n",
    "place_pages = []\n",
    "\n",
    "\n",
    "for place_link in place_links:\n",
    "    tmpUrl = 'www.yelp.co.uk' + place_link    \n",
    "    r  = requests.get(\"http://\" +tmpUrl) #getting subpage\n",
    "    data = r.text\n",
    "    place_soup = BeautifulSoup(data,\"lxml\")\n",
    "    place_pages.append(place_soup)\n",
    "    \n",
    "    "
   ]
  },
  {
   "cell_type": "code",
   "execution_count": 18,
   "metadata": {
    "collapsed": false
   },
   "outputs": [
    {
     "ename": "TypeError",
     "evalue": "Object of type 'map' is not JSON serializable",
     "output_type": "error",
     "traceback": [
      "\u001b[0;31m---------------------------------------------------------------------------\u001b[0m",
      "\u001b[0;31mTypeError\u001b[0m                                 Traceback (most recent call last)",
      "\u001b[0;32m<ipython-input-18-b654edb98b7a>\u001b[0m in \u001b[0;36m<module>\u001b[0;34m()\u001b[0m\n\u001b[1;32m    127\u001b[0m \u001b[1;33m\u001b[0m\u001b[0m\n\u001b[1;32m    128\u001b[0m \u001b[0mdataStorage\u001b[0m\u001b[1;33m.\u001b[0m\u001b[0mappend\u001b[0m\u001b[1;33m(\u001b[0m\u001b[0mstoreNode\u001b[0m\u001b[1;33m)\u001b[0m\u001b[1;33m\u001b[0m\u001b[0m\n\u001b[0;32m--> 129\u001b[0;31m \u001b[0mjson\u001b[0m\u001b[1;33m.\u001b[0m\u001b[0mdumps\u001b[0m\u001b[1;33m(\u001b[0m\u001b[0mstoreNode\u001b[0m\u001b[1;33m)\u001b[0m\u001b[1;33m\u001b[0m\u001b[0m\n\u001b[0m",
      "\u001b[0;32mC:\\Users\\Thang\\Anaconda3\\lib\\json\\__init__.py\u001b[0m in \u001b[0;36mdumps\u001b[0;34m(obj, skipkeys, ensure_ascii, check_circular, allow_nan, cls, indent, separators, default, sort_keys, **kw)\u001b[0m\n\u001b[1;32m    229\u001b[0m         \u001b[0mcls\u001b[0m \u001b[1;32mis\u001b[0m \u001b[1;32mNone\u001b[0m \u001b[1;32mand\u001b[0m \u001b[0mindent\u001b[0m \u001b[1;32mis\u001b[0m \u001b[1;32mNone\u001b[0m \u001b[1;32mand\u001b[0m \u001b[0mseparators\u001b[0m \u001b[1;32mis\u001b[0m \u001b[1;32mNone\u001b[0m \u001b[1;32mand\u001b[0m\u001b[1;33m\u001b[0m\u001b[0m\n\u001b[1;32m    230\u001b[0m         default is None and not sort_keys and not kw):\n\u001b[0;32m--> 231\u001b[0;31m         \u001b[1;32mreturn\u001b[0m \u001b[0m_default_encoder\u001b[0m\u001b[1;33m.\u001b[0m\u001b[0mencode\u001b[0m\u001b[1;33m(\u001b[0m\u001b[0mobj\u001b[0m\u001b[1;33m)\u001b[0m\u001b[1;33m\u001b[0m\u001b[0m\n\u001b[0m\u001b[1;32m    232\u001b[0m     \u001b[1;32mif\u001b[0m \u001b[0mcls\u001b[0m \u001b[1;32mis\u001b[0m \u001b[1;32mNone\u001b[0m\u001b[1;33m:\u001b[0m\u001b[1;33m\u001b[0m\u001b[0m\n\u001b[1;32m    233\u001b[0m         \u001b[0mcls\u001b[0m \u001b[1;33m=\u001b[0m \u001b[0mJSONEncoder\u001b[0m\u001b[1;33m\u001b[0m\u001b[0m\n",
      "\u001b[0;32mC:\\Users\\Thang\\Anaconda3\\lib\\json\\encoder.py\u001b[0m in \u001b[0;36mencode\u001b[0;34m(self, o)\u001b[0m\n\u001b[1;32m    197\u001b[0m         \u001b[1;31m# exceptions aren't as detailed.  The list call should be roughly\u001b[0m\u001b[1;33m\u001b[0m\u001b[1;33m\u001b[0m\u001b[0m\n\u001b[1;32m    198\u001b[0m         \u001b[1;31m# equivalent to the PySequence_Fast that ''.join() would do.\u001b[0m\u001b[1;33m\u001b[0m\u001b[1;33m\u001b[0m\u001b[0m\n\u001b[0;32m--> 199\u001b[0;31m         \u001b[0mchunks\u001b[0m \u001b[1;33m=\u001b[0m \u001b[0mself\u001b[0m\u001b[1;33m.\u001b[0m\u001b[0miterencode\u001b[0m\u001b[1;33m(\u001b[0m\u001b[0mo\u001b[0m\u001b[1;33m,\u001b[0m \u001b[0m_one_shot\u001b[0m\u001b[1;33m=\u001b[0m\u001b[1;32mTrue\u001b[0m\u001b[1;33m)\u001b[0m\u001b[1;33m\u001b[0m\u001b[0m\n\u001b[0m\u001b[1;32m    200\u001b[0m         \u001b[1;32mif\u001b[0m \u001b[1;32mnot\u001b[0m \u001b[0misinstance\u001b[0m\u001b[1;33m(\u001b[0m\u001b[0mchunks\u001b[0m\u001b[1;33m,\u001b[0m \u001b[1;33m(\u001b[0m\u001b[0mlist\u001b[0m\u001b[1;33m,\u001b[0m \u001b[0mtuple\u001b[0m\u001b[1;33m)\u001b[0m\u001b[1;33m)\u001b[0m\u001b[1;33m:\u001b[0m\u001b[1;33m\u001b[0m\u001b[0m\n\u001b[1;32m    201\u001b[0m             \u001b[0mchunks\u001b[0m \u001b[1;33m=\u001b[0m \u001b[0mlist\u001b[0m\u001b[1;33m(\u001b[0m\u001b[0mchunks\u001b[0m\u001b[1;33m)\u001b[0m\u001b[1;33m\u001b[0m\u001b[0m\n",
      "\u001b[0;32mC:\\Users\\Thang\\Anaconda3\\lib\\json\\encoder.py\u001b[0m in \u001b[0;36miterencode\u001b[0;34m(self, o, _one_shot)\u001b[0m\n\u001b[1;32m    255\u001b[0m                 \u001b[0mself\u001b[0m\u001b[1;33m.\u001b[0m\u001b[0mkey_separator\u001b[0m\u001b[1;33m,\u001b[0m \u001b[0mself\u001b[0m\u001b[1;33m.\u001b[0m\u001b[0mitem_separator\u001b[0m\u001b[1;33m,\u001b[0m \u001b[0mself\u001b[0m\u001b[1;33m.\u001b[0m\u001b[0msort_keys\u001b[0m\u001b[1;33m,\u001b[0m\u001b[1;33m\u001b[0m\u001b[0m\n\u001b[1;32m    256\u001b[0m                 self.skipkeys, _one_shot)\n\u001b[0;32m--> 257\u001b[0;31m         \u001b[1;32mreturn\u001b[0m \u001b[0m_iterencode\u001b[0m\u001b[1;33m(\u001b[0m\u001b[0mo\u001b[0m\u001b[1;33m,\u001b[0m \u001b[1;36m0\u001b[0m\u001b[1;33m)\u001b[0m\u001b[1;33m\u001b[0m\u001b[0m\n\u001b[0m\u001b[1;32m    258\u001b[0m \u001b[1;33m\u001b[0m\u001b[0m\n\u001b[1;32m    259\u001b[0m def _make_iterencode(markers, _default, _encoder, _indent, _floatstr,\n",
      "\u001b[0;32mC:\\Users\\Thang\\Anaconda3\\lib\\json\\encoder.py\u001b[0m in \u001b[0;36mdefault\u001b[0;34m(self, o)\u001b[0m\n\u001b[1;32m    178\u001b[0m         \"\"\"\n\u001b[1;32m    179\u001b[0m         raise TypeError(\"Object of type '%s' is not JSON serializable\" %\n\u001b[0;32m--> 180\u001b[0;31m                         o.__class__.__name__)\n\u001b[0m\u001b[1;32m    181\u001b[0m \u001b[1;33m\u001b[0m\u001b[0m\n\u001b[1;32m    182\u001b[0m     \u001b[1;32mdef\u001b[0m \u001b[0mencode\u001b[0m\u001b[1;33m(\u001b[0m\u001b[0mself\u001b[0m\u001b[1;33m,\u001b[0m \u001b[0mo\u001b[0m\u001b[1;33m)\u001b[0m\u001b[1;33m:\u001b[0m\u001b[1;33m\u001b[0m\u001b[0m\n",
      "\u001b[0;31mTypeError\u001b[0m: Object of type 'map' is not JSON serializable"
     ]
    }
   ],
   "source": [
    "dataStorage = []\n",
    "\n",
    "{'name':'',#done\n",
    " 'address': '', #done\n",
    " 'priceRange': '', #done\n",
    " 'gps': [1,2], #done\n",
    " 'priceGroup': '', #done\n",
    " 'stars': '', #done\n",
    " 'numOfReviews': 0, #done\n",
    " 'web': '', #done\n",
    " 'numOfPhotos': '',#done\n",
    " 'tags': [], #done\n",
    " 'extras': {}, #done \n",
    " 'openHours': { #done\n",
    "        'Mon' : ['9:00','22:00'],\n",
    "        'Tue' : ['Closed'],\n",
    "        'Wed' : '',\n",
    "        'Thu' : '',\n",
    "        'Fri' : '',\n",
    "        'Sat' : '',\n",
    "        'Sun' : '',\n",
    "    }\n",
    "}\n",
    "\n",
    "i = 1\n",
    "\n",
    "name = next(place_pages[i].find('h1','biz-page-title').children).strip() #need to encode utf-8 for saving into file\n",
    "\n",
    "#address\n",
    "address = place_pages[i].find('address').findChildren('span')\n",
    "street = address[0].text\n",
    "postCode = address[1].text\n",
    "city = address[2].text\n",
    "\n",
    "#price\n",
    "priceRange = place_pages[i].find('dd','price-description')\n",
    "priceText = priceRange.text.strip() #clean whitespaces\n",
    "currency = priceText[:3]\n",
    "priceText_split = priceText[3:].split('-') \n",
    "priceFrom = priceText_split[0]\n",
    "priceTo = priceText_split[1]\n",
    "\n",
    "priceGroup = place_pages[i].find('span','price-range').text\n",
    "\n",
    "#location\n",
    "coordTmp = place_pages[i].find('a','biz-map-directions').findChildren()[0].attrs['src']\n",
    "coordStart = coordTmp.find('center')\n",
    "coordTmpShort = coordTmp[coordStart+7:coordStart+28]\n",
    "gps = coordTmpShort.split('%2C')\n",
    "gps = map(float,gps) #convert to int\n",
    "\n",
    "#stars\n",
    "stars = float(place_pages[i].find('div','rating-very-large').attrs['title'][0:3])\n",
    "\n",
    "#reviews\n",
    "numOfReviews = int(place_pages[i].find('span','review-count rating-qualifier').text.strip().split(\" \")[0])\n",
    "\n",
    "#web\n",
    "webTmp = place_pages[i].find('span','biz-website')\n",
    "\n",
    "if not webTmp:\n",
    "    web = \"\"\n",
    "else:\n",
    "    web = webTmp.findChildren()[1].text\n",
    "\n",
    "#photos\n",
    "numOfPhotos = place_pages[i].find('a','see-more show-all-overlay')\n",
    "                  \n",
    "if numOfPhotos:\n",
    "    numOfPhotos =  int(numOfPhotos.text.strip().split(\" \")[2])\n",
    "else: \n",
    "    numOfPhotos = 0\n",
    "            \n",
    "#tags\n",
    "tags = []\n",
    "\n",
    "tagsTmp = place_pages[i].find('span','category-str-list').findChildren()\n",
    "\n",
    "for item in tagsTmp:\n",
    "    tags.append(item.text)\n",
    "\n",
    "#extra info, like wifi, takeaway, reservation etc..\n",
    "extrasTmp = place_pages[i].find('div','short-def-list').findChildren('dl')\n",
    "extras = {}\n",
    "\n",
    "for item in extrasTmp:\n",
    "    itemChildren = item.findChildren()    \n",
    "    key = itemChildren[0].text.strip()\n",
    "    val = itemChildren[1].text.strip()\n",
    "    extras[key] = val\n",
    "  \n",
    "\n",
    "openHoursTpl = place_pages[i].find('table','hours-table').find_all('tr')\n",
    "\n",
    "openHours = {}\n",
    "\n",
    "for item in openHoursTpl:\n",
    "    openHourRow = item.findChildren()\n",
    "    \n",
    "    dayAbbrKey = openHourRow[0].text\n",
    "    openHourRange = openHourRow[1].text.strip().split('-')\n",
    "    \n",
    "    if(len(openHourRange) == 1):\n",
    "        openHours[dayAbbrKey] = 'Closed'\n",
    "    else:\n",
    "        openFr = openHourRange[0]\n",
    "        openTo = openHourRange[1]\n",
    "        openHours[dayAbbrKey] = [openFr,openTo]\n",
    "        \n",
    "storeNode = {\n",
    " 'name': name,\n",
    " 'address': street,\n",
    " 'postCode' : postCode,\n",
    " 'city': city,\n",
    " 'priceFrom': int(priceFrom), \n",
    " 'priceFrom': int(priceTo), \n",
    " 'gps': gps, \n",
    " 'priceGroup': priceGroup, \n",
    " 'stars': stars, \n",
    " 'numOfReviews': numOfReviews,\n",
    " 'web': web, \n",
    " 'numOfPhotos': numOfPhotos,\n",
    " 'tags': tags, \n",
    " 'extras': extras, \n",
    " 'openHours': openHours\n",
    "}\n",
    "\n",
    "dataStorage.append(storeNode)      \n",
    "json.dumps(storeNode)"
   ]
  },
  {
   "cell_type": "code",
   "execution_count": 29,
   "metadata": {
    "collapsed": false
   },
   "outputs": [],
   "source": [
    "# output = json.dumps(dataStorage[0])\n",
    "import pickle\n",
    "#saving into file\n",
    "with open(\"Output.pickle\", \"wb\") as text_file:\n",
    "    pickle.dump(dataStorage, text_file)"
   ]
  },
  {
   "cell_type": "code",
   "execution_count": 32,
   "metadata": {
    "collapsed": false,
    "scrolled": true
   },
   "outputs": [
    {
     "name": "stdout",
     "output_type": "stream",
     "text": [
      "[{'name': 'Naše Maso', 'address': 'Dlouhá 39', 'postCode': '110 00', 'city': 'Prague', 'priceFrom': 350, 'gps': <map object at 0x0000019CD9B39748>, 'priceGroup': '$$', 'stars': 4.5, 'numOfReviews': 102, 'web': 'nasemaso.ambi.cz/cz', 'numOfPhotos': 235, 'tags': ['Butchers', 'Bistros', 'Meat Shops'], 'extras': {'Takes Reservations': 'No', 'Delivery': 'No', 'Take Away': 'Yes', 'Accepts Credit Cards': 'Yes', 'Good For': 'Lunch', 'Parking': 'Street', 'Good for Children': 'No', 'Good for Groups': 'No', 'Attire': 'Casual', 'Ambience': 'Casual', 'Noise Level': 'Average', 'Alcohol': 'Beer & Wine Only', 'Outdoor Seating': 'No', 'Wi-Fi': 'Free', 'Has TV': 'No', 'Waiter Service': 'No', 'Caters': 'Yes'}, 'openHours': {'Mon': ['9:00 ', ' 22:00'], 'Tue': ['9:00 ', ' 22:00'], 'Wed': ['9:00 ', ' 22:00'], 'Thu': ['9:00 ', ' 22:00'], 'Fri': ['9:00 ', ' 22:00'], 'Sat': ['9:00 ', ' 22:00'], 'Sun': 'Closed'}}]\n"
     ]
    }
   ],
   "source": [
    "with open('Output.pickle', 'rb') as f:\n",
    "    entry = pickle.load(f)\n",
    "    print (entry)"
   ]
  },
  {
   "cell_type": "raw",
   "metadata": {},
   "source": [
    "print (entry)"
   ]
  },
  {
   "cell_type": "code",
   "execution_count": null,
   "metadata": {
    "collapsed": false
   },
   "outputs": [],
   "source": [
    "f = file('output.txt', 'r')\n",
    "print f.read().decode('utf8')"
   ]
  },
  {
   "cell_type": "code",
   "execution_count": null,
   "metadata": {
    "collapsed": true
   },
   "outputs": [],
   "source": []
  }
 ],
 "metadata": {
  "anaconda-cloud": {},
  "kernelspec": {
   "display_name": "Python 3",
   "language": "python",
   "name": "python3"
  },
  "language_info": {
   "codemirror_mode": {
    "name": "ipython",
    "version": 3
   },
   "file_extension": ".py",
   "mimetype": "text/x-python",
   "name": "python",
   "nbconvert_exporter": "python",
   "pygments_lexer": "ipython3",
   "version": "3.6.0"
  }
 },
 "nbformat": 4,
 "nbformat_minor": 0
}
