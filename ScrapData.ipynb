{
 "cells": [
  {
   "cell_type": "code",
   "execution_count": 3,
   "metadata": {
    "collapsed": false
   },
   "outputs": [],
   "source": [
    "from bs4 import BeautifulSoup\n",
    "\n",
    "import requests\n",
    "\n",
    "#first loop open the big page with url\n",
    "#second loop find all links to a place \n",
    "\n",
    "url = \"www.yelp.co.uk/search?find_loc=praha&cflt=restaurants\"\n",
    "\n",
    "r  = requests.get(\"http://\" +url)\n",
    "\n",
    "data = r.text\n",
    "\n",
    "soup = BeautifulSoup(data,\"lxml\")\n",
    "\n",
    "place_links = [] #store all sublinks of places\n",
    "\n",
    "#find all links to places\n",
    "for link in soup.find_all('a','biz-name'):\n",
    "    place_links.append(link['href'])\n",
    "\n",
    "\n",
    "place_pages = []\n",
    "\n",
    "\n",
    "for place_link in place_links:\n",
    "    tmpUrl = 'www.yelp.co.uk' + place_link    \n",
    "    r  = requests.get(\"http://\" +tmpUrl) #getting subpage\n",
    "    data = r.text\n",
    "    place_soup = BeautifulSoup(data,\"lxml\")\n",
    "    place_pages.append(place_soup)\n",
    "    \n",
    "    "
   ]
  },
  {
   "cell_type": "code",
   "execution_count": 27,
   "metadata": {
    "collapsed": false
   },
   "outputs": [],
   "source": [
    "dataStorage = []\n",
    "\n",
    "{'name':'',#done\n",
    " 'address': '', #done\n",
    " 'priceRange': '', #done\n",
    " 'gps': [1,2], #done\n",
    " 'priceGroup': '', #done\n",
    " 'stars': '', #done\n",
    " 'numOfReviews': 0, #done\n",
    " 'web': '', #done\n",
    " 'numOfPhotos': '',#done\n",
    " 'tags': [], #done\n",
    " 'extras': {}, #done \n",
    " 'openHours': { #done\n",
    "        'Mon' : ['9:00','22:00'],\n",
    "        'Tue' : ['Closed'],\n",
    "        'Wed' : '',\n",
    "        'Thu' : '',\n",
    "        'Fri' : '',\n",
    "        'Sat' : '',\n",
    "        'Sun' : '',\n",
    "    }\n",
    "}\n",
    "\n",
    "i = 1\n",
    "\n",
    "name = place_pages[i].find('h1','biz-page-title').children.next().encode('utf-8') #need to encode utf-8 for saving into file\n",
    "\n",
    "#address\n",
    "address = place_pages[i].find('address').findChildren('span')\n",
    "street = address[0].text\n",
    "postCode = address[1].text\n",
    "city = address[2].text\n",
    "\n",
    "#price\n",
    "priceRange = place_pages[i].find('dd','price-description')\n",
    "priceText = priceRange.text.strip() #clean whitespaces\n",
    "currency = priceText[:3]\n",
    "priceText_split = priceText[3:].split('-') \n",
    "priceFrom = priceText_split[0]\n",
    "priceTo = priceText_split[1]\n",
    "\n",
    "priceGroup = place_pages[i].find('span','price-range')\n",
    "\n",
    "#location\n",
    "coordTmp = place_pages[i].find('a','biz-map-directions').findChildren()[0].attrs['src']\n",
    "coordStart = coordTmp.find('center')\n",
    "coordTmpShort = coordTmp[coordStart+7:coordStart+28]\n",
    "gps = coordTmpShort.split('%2C')\n",
    "gps = map(float,gps) #convert to int\n",
    "\n",
    "#stars\n",
    "stars = float(place_pages[i].find('div','rating-very-large').attrs['title'][0:3])\n",
    "\n",
    "#reviews\n",
    "numOfReviews = int(place_pages[i].find('span','review-count rating-qualifier').text.strip().split(\" \")[0])\n",
    "\n",
    "#web\n",
    "webTmp = place_pages[i].find('span','biz-website')\n",
    "\n",
    "if not webTmp:\n",
    "    web = \"\"\n",
    "else:\n",
    "    web = webTmp.findChildren()[1].text\n",
    "\n",
    "#photos\n",
    "numOfPhotos = place_pages[i].find('a','see-more show-all-overlay')\n",
    "                  \n",
    "if numOfPhotos:\n",
    "    numOfPhotos =  int(numOfPhotos.text.strip().split(\" \")[2])\n",
    "else: \n",
    "    numOfPhotos = 0\n",
    "            \n",
    "#tags\n",
    "tags = []\n",
    "\n",
    "tagsTmp = place_pages[i].find('span','category-str-list').findChildren()\n",
    "\n",
    "for item in tagsTmp:\n",
    "    tags.append(item.text)\n",
    "\n",
    "#extra info, like wifi, takeaway, reservation etc..\n",
    "extrasTmp = place_pages[i].find('div','short-def-list').findChildren('dl')\n",
    "extras = {}\n",
    "\n",
    "for item in extrasTmp:\n",
    "    itemChildren = item.findChildren()    \n",
    "    key = itemChildren[0].text.strip()\n",
    "    val = itemChildren[1].text.strip()\n",
    "    extras[key] = val\n",
    "  \n",
    "\n",
    "openHoursTpl = place_pages[i].find('table','hours-table').find_all('tr')\n",
    "\n",
    "openHours = {}\n",
    "\n",
    "for item in openHoursTpl:\n",
    "    openHourRow = item.findChildren()\n",
    "    \n",
    "    dayAbbrKey = openHourRow[0].text\n",
    "    openHourRange = openHourRow[1].text.strip().split('-')\n",
    "    \n",
    "    if(len(openHourRange) == 1):\n",
    "        openHours[dayAbbrKey] = 'Closed'\n",
    "    else:\n",
    "        openFr = openHourRange[0]\n",
    "        openTo = openHourRange[1]\n",
    "        openHours[dayAbbrKey] = [openFr,openTo]"
   ]
  },
  {
   "cell_type": "code",
   "execution_count": 29,
   "metadata": {
    "collapsed": false
   },
   "outputs": [
    {
     "data": {
      "text/plain": [
       "{u'Accepts Credit Cards': u'Yes',\n",
       " u'Alcohol': u'Beer & Wine Only',\n",
       " u'Ambience': u'Casual',\n",
       " u'Attire': u'Casual',\n",
       " u'Caters': u'Yes',\n",
       " u'Delivery': u'No',\n",
       " u'Good For': u'Lunch',\n",
       " u'Good for Children': u'Yes',\n",
       " u'Good for Groups': u'No',\n",
       " u'Has TV': u'No',\n",
       " u'Noise Level': u'Average',\n",
       " u'Outdoor Seating': u'No',\n",
       " u'Parking': u'Street',\n",
       " u'Take Away': u'Yes',\n",
       " u'Takes Reservations': u'No',\n",
       " u'Waiter Service': u'No',\n",
       " u'Wi-Fi': u'Free'}"
      ]
     },
     "execution_count": 29,
     "metadata": {},
     "output_type": "execute_result"
    }
   ],
   "source": []
  },
  {
   "cell_type": "code",
   "execution_count": 25,
   "metadata": {
    "collapsed": false
   },
   "outputs": [
    {
     "ename": "UnicodeEncodeError",
     "evalue": "'ascii' codec can't encode character u'\\xe1' in position 5: ordinal not in range(128)",
     "output_type": "error",
     "traceback": [
      "\u001b[1;31m---------------------------------------------------------------------------\u001b[0m",
      "\u001b[1;31mUnicodeEncodeError\u001b[0m                        Traceback (most recent call last)",
      "\u001b[1;32m<ipython-input-25-0131bd81d49f>\u001b[0m in \u001b[0;36m<module>\u001b[1;34m()\u001b[0m\n\u001b[0;32m      1\u001b[0m \u001b[1;31m#saving into file\u001b[0m\u001b[1;33m\u001b[0m\u001b[1;33m\u001b[0m\u001b[0m\n\u001b[0;32m      2\u001b[0m \u001b[1;32mwith\u001b[0m \u001b[0mopen\u001b[0m\u001b[1;33m(\u001b[0m\u001b[1;34m\"Output.txt\"\u001b[0m\u001b[1;33m,\u001b[0m \u001b[1;34m\"w\"\u001b[0m\u001b[1;33m)\u001b[0m \u001b[1;32mas\u001b[0m \u001b[0mtext_file\u001b[0m\u001b[1;33m:\u001b[0m\u001b[1;33m\u001b[0m\u001b[0m\n\u001b[1;32m----> 3\u001b[1;33m     \u001b[0mtext_file\u001b[0m\u001b[1;33m.\u001b[0m\u001b[0mwrite\u001b[0m\u001b[1;33m(\u001b[0m\u001b[1;34m\"Purchase Amount: {}\"\u001b[0m\u001b[1;33m.\u001b[0m\u001b[0mformat\u001b[0m\u001b[1;33m(\u001b[0m\u001b[0mstreet\u001b[0m\u001b[1;33m)\u001b[0m\u001b[1;33m)\u001b[0m\u001b[1;33m\u001b[0m\u001b[0m\n\u001b[0m",
      "\u001b[1;31mUnicodeEncodeError\u001b[0m: 'ascii' codec can't encode character u'\\xe1' in position 5: ordinal not in range(128)"
     ]
    }
   ],
   "source": [
    "#saving into file\n",
    "with open(\"Output.txt\", \"w\") as text_file:\n",
    "    text_file.write(\"Purchase Amount: {}\".format(street))"
   ]
  },
  {
   "cell_type": "code",
   "execution_count": null,
   "metadata": {
    "collapsed": true
   },
   "outputs": [],
   "source": []
  }
 ],
 "metadata": {
  "anaconda-cloud": {},
  "kernelspec": {
   "display_name": "Python [Root]",
   "language": "python",
   "name": "Python [Root]"
  },
  "language_info": {
   "codemirror_mode": {
    "name": "ipython",
    "version": 2
   },
   "file_extension": ".py",
   "mimetype": "text/x-python",
   "name": "python",
   "nbconvert_exporter": "python",
   "pygments_lexer": "ipython2",
   "version": "2.7.12"
  }
 },
 "nbformat": 4,
 "nbformat_minor": 0
}
