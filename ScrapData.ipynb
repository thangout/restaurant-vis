{
 "cells": [
  {
   "cell_type": "code",
   "execution_count": 19,
   "metadata": {
    "collapsed": false
   },
   "outputs": [],
   "source": [
    "from bs4 import BeautifulSoup\n",
    "\n",
    "import requests\n",
    "\n",
    "#first loop open the big page with url\n",
    "#second loop find all links to a place \n",
    "\n",
    "url = \"www.yelp.co.uk/search?find_loc=praha&cflt=restaurants\"\n",
    "\n",
    "r  = requests.get(\"http://\" +url)\n",
    "\n",
    "data = r.text\n",
    "\n",
    "soup = BeautifulSoup(data,\"lxml\")\n",
    "\n",
    "place_links = [] #store all sublinks of places\n",
    "\n",
    "#find all links to places\n",
    "for link in soup.find_all('a','biz-name'):\n",
    "    place_links.append(link['href'])\n",
    "\n",
    "\n",
    "place_pages = []\n",
    "\n",
    "\n",
    "for place_link in place_links:\n",
    "    tmpUrl = 'www.yelp.co.uk' + place_link    \n",
    "    r  = requests.get(\"http://\" +tmpUrl) #getting subpage\n",
    "    data = r.text\n",
    "    place_soup = BeautifulSoup(data,\"lxml\")\n",
    "    place_pages.append(place_soup)\n",
    "    \n",
    "    "
   ]
  },
  {
   "cell_type": "code",
   "execution_count": 27,
   "metadata": {
    "collapsed": false
   },
   "outputs": [
    {
     "data": {
      "text/plain": [
       "[<address itemprop=\"address\" itemscope=\"\" itemtype=\"http://schema.org/PostalAddress\">\\n<span itemprop=\"streetAddress\">Dlouh\\xe1 39</span><br/><span itemprop=\"postalCode\">110 00</span> <span itemprop=\"addressLocality\">Prague</span><br/>Czech Republic<br/><meta content=\"CZ\" itemprop=\"addressCountry\"/>\\n</address>,\n",
       " <address>\\n        Dlouh\\xe1 39, 110 00 Praha, Czech Republic\\n    </address>,\n",
       " <address>\\n        Dlouh\\xe1 39<br/>110 00 Prague<br/>Czech Republic\\n    </address>]"
      ]
     },
     "execution_count": 27,
     "metadata": {},
     "output_type": "execute_result"
    }
   ],
   "source": [
    "dataStorage = []\n",
    "\n",
    "{'name':'',\n",
    " 'address': '', \n",
    " 'priceRange': '', \n",
    " 'gps': [1,2], \n",
    " 'priceGroup': '', \n",
    " 'stars': '', \n",
    " 'numOfReviews': 0, \n",
    " 'web': '', \n",
    " 'numOfPhotos': '',\n",
    " 'tags': [],\n",
    " 'noiseLevel': '',\n",
    " 'wifi': '',\n",
    " 'openHours': {\n",
    "        'mo' : '',\n",
    "        'tu' : '',\n",
    "        'we' : '',\n",
    "        'th' : '',\n",
    "        'fr' : '',\n",
    "        'sa' : '',\n",
    "        'su' : '',\n",
    "    }\n",
    "}\n",
    "\n",
    "place_pages[1].find_all('address')"
   ]
  },
  {
   "cell_type": "code",
   "execution_count": null,
   "metadata": {
    "collapsed": true
   },
   "outputs": [],
   "source": []
  }
 ],
 "metadata": {
  "anaconda-cloud": {},
  "kernelspec": {
   "display_name": "Python [Root]",
   "language": "python",
   "name": "Python [Root]"
  },
  "language_info": {
   "codemirror_mode": {
    "name": "ipython",
    "version": 2
   },
   "file_extension": ".py",
   "mimetype": "text/x-python",
   "name": "python",
   "nbconvert_exporter": "python",
   "pygments_lexer": "ipython2",
   "version": "2.7.12"
  }
 },
 "nbformat": 4,
 "nbformat_minor": 0
}
